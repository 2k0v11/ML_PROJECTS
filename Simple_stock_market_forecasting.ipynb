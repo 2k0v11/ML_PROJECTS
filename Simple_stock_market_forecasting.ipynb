{
 "cells": [
  {
   "cell_type": "markdown",
   "id": "e1c07c91",
   "metadata": {},
   "source": [
    "# Applying Machine Learning techniques for Simple Financial Forecasting"
   ]
  },
  {
   "cell_type": "markdown",
   "id": "0b1f294c",
   "metadata": {},
   "source": [
    "# Introduction:\n",
    "\n",
    "- The intersection of finance  and technology, particularly in how machine learning can help with the complexities of stock market behaviors.\n",
    "\n",
    "- It is believed that in-between the unpredictable nature of the stock markets, machine learning offers a valuable insight."
   ]
  },
  {
   "cell_type": "markdown",
   "id": "d0bc2706",
   "metadata": {},
   "source": [
    "# Aim:\n",
    "\n",
    "- The aim is to unravel the complexities of stock market fluctuations and seek  machine learning's predictive power to forecast stock prices."
   ]
  },
  {
   "cell_type": "markdown",
   "id": "8535adf3",
   "metadata": {},
   "source": [
    "# Objectives:\n",
    "\n",
    "- To create a few features from the data, feeding them into model that'll be used to build a working model.\n",
    "\n",
    "- To predict the outcome variable on the basis of few selected features, and evaluate its performance."
   ]
  },
  {
   "cell_type": "markdown",
   "id": "8174511f",
   "metadata": {},
   "source": [
    "# Methodology"
   ]
  },
  {
   "cell_type": "code",
   "execution_count": 233,
   "id": "a135105e",
   "metadata": {
    "scrolled": false
   },
   "outputs": [],
   "source": [
    "#installing necessary libraries\n",
    "\n",
    "#!pip install numpy pandas yfinance matplotlib scikit-learn tensorflow [REMOVE COMMENT]\n"
   ]
  },
  {
   "cell_type": "code",
   "execution_count": 234,
   "id": "36ea6e19",
   "metadata": {},
   "outputs": [],
   "source": [
    "import pandas as pd\n",
    "import numpy as np\n",
    "import yfinance as yfin"
   ]
  },
  {
   "cell_type": "markdown",
   "id": "62067129",
   "metadata": {},
   "source": [
    "### DATASET"
   ]
  },
  {
   "cell_type": "code",
   "execution_count": 257,
   "id": "d5dc10e1",
   "metadata": {},
   "outputs": [
    {
     "name": "stdout",
     "output_type": "stream",
     "text": [
      "[*********************100%%**********************]  1 of 1 completed\n"
     ]
    }
   ],
   "source": [
    "# Getting dataset\n",
    "\n",
    "label='AAPL'\n",
    "df=yfin.download('AAPL',start='2019-01-01',end='2023-01-01')"
   ]
  },
  {
   "cell_type": "code",
   "execution_count": 258,
   "id": "5058b52d",
   "metadata": {},
   "outputs": [
    {
     "data": {
      "text/html": [
       "<div>\n",
       "<style scoped>\n",
       "    .dataframe tbody tr th:only-of-type {\n",
       "        vertical-align: middle;\n",
       "    }\n",
       "\n",
       "    .dataframe tbody tr th {\n",
       "        vertical-align: top;\n",
       "    }\n",
       "\n",
       "    .dataframe thead th {\n",
       "        text-align: right;\n",
       "    }\n",
       "</style>\n",
       "<table border=\"1\" class=\"dataframe\">\n",
       "  <thead>\n",
       "    <tr style=\"text-align: right;\">\n",
       "      <th></th>\n",
       "      <th>Open</th>\n",
       "      <th>High</th>\n",
       "      <th>Low</th>\n",
       "      <th>Close</th>\n",
       "      <th>Adj Close</th>\n",
       "      <th>Volume</th>\n",
       "    </tr>\n",
       "    <tr>\n",
       "      <th>Date</th>\n",
       "      <th></th>\n",
       "      <th></th>\n",
       "      <th></th>\n",
       "      <th></th>\n",
       "      <th></th>\n",
       "      <th></th>\n",
       "    </tr>\n",
       "  </thead>\n",
       "  <tbody>\n",
       "    <tr>\n",
       "      <th>2019-01-02</th>\n",
       "      <td>38.722500</td>\n",
       "      <td>39.712502</td>\n",
       "      <td>38.557499</td>\n",
       "      <td>39.480000</td>\n",
       "      <td>37.943256</td>\n",
       "      <td>148158800</td>\n",
       "    </tr>\n",
       "    <tr>\n",
       "      <th>2019-01-03</th>\n",
       "      <td>35.994999</td>\n",
       "      <td>36.430000</td>\n",
       "      <td>35.500000</td>\n",
       "      <td>35.547501</td>\n",
       "      <td>34.163826</td>\n",
       "      <td>365248800</td>\n",
       "    </tr>\n",
       "    <tr>\n",
       "      <th>2019-01-04</th>\n",
       "      <td>36.132500</td>\n",
       "      <td>37.137501</td>\n",
       "      <td>35.950001</td>\n",
       "      <td>37.064999</td>\n",
       "      <td>35.622257</td>\n",
       "      <td>234428400</td>\n",
       "    </tr>\n",
       "    <tr>\n",
       "      <th>2019-01-07</th>\n",
       "      <td>37.174999</td>\n",
       "      <td>37.207500</td>\n",
       "      <td>36.474998</td>\n",
       "      <td>36.982498</td>\n",
       "      <td>35.542965</td>\n",
       "      <td>219111200</td>\n",
       "    </tr>\n",
       "    <tr>\n",
       "      <th>2019-01-08</th>\n",
       "      <td>37.389999</td>\n",
       "      <td>37.955002</td>\n",
       "      <td>37.130001</td>\n",
       "      <td>37.687500</td>\n",
       "      <td>36.220524</td>\n",
       "      <td>164101200</td>\n",
       "    </tr>\n",
       "  </tbody>\n",
       "</table>\n",
       "</div>"
      ],
      "text/plain": [
       "                 Open       High        Low      Close  Adj Close     Volume\n",
       "Date                                                                        \n",
       "2019-01-02  38.722500  39.712502  38.557499  39.480000  37.943256  148158800\n",
       "2019-01-03  35.994999  36.430000  35.500000  35.547501  34.163826  365248800\n",
       "2019-01-04  36.132500  37.137501  35.950001  37.064999  35.622257  234428400\n",
       "2019-01-07  37.174999  37.207500  36.474998  36.982498  35.542965  219111200\n",
       "2019-01-08  37.389999  37.955002  37.130001  37.687500  36.220524  164101200"
      ]
     },
     "execution_count": 258,
     "metadata": {},
     "output_type": "execute_result"
    }
   ],
   "source": [
    "df.head()"
   ]
  },
  {
   "cell_type": "markdown",
   "id": "e7ae24d6",
   "metadata": {},
   "source": [
    "### Feature Engineering"
   ]
  },
  {
   "cell_type": "code",
   "execution_count": 259,
   "id": "f64b3f53",
   "metadata": {},
   "outputs": [],
   "source": [
    "# Log Returns\n",
    "\n",
    "df['Log_Return'] = np.log(df['Close'] / df['Close'].shift(1))"
   ]
  },
  {
   "cell_type": "code",
   "execution_count": 260,
   "id": "f48f1f97",
   "metadata": {},
   "outputs": [],
   "source": [
    "# Moving Averages\n",
    "\n",
    "df['MA10']=df['Close'].rolling(window=7).mean()   # 10 days taken into consideration\n",
    "df['MA25']=df['Close'].rolling(window=30).mean()  # 25 days taken into consideration"
   ]
  },
  {
   "cell_type": "code",
   "execution_count": 261,
   "id": "f4b5060f",
   "metadata": {},
   "outputs": [],
   "source": [
    "# Exponential Moving Averages\n",
    "\n",
    "EMA1=df['Close'].ewm(span=15,adjust=False).mean()  # 12 days into consideration\n",
    "EMA2= df['Close'].ewm(span=28, adjust=False).mean() # 28 days into consideration"
   ]
  },
  {
   "cell_type": "code",
   "execution_count": 262,
   "id": "728bb5c6",
   "metadata": {},
   "outputs": [],
   "source": [
    "# Moving Average Convergence Divergence\n",
    "\n",
    "df['MACD'] = EMA1 - EMA2"
   ]
  },
  {
   "cell_type": "code",
   "execution_count": 263,
   "id": "431c4ae9",
   "metadata": {},
   "outputs": [],
   "source": [
    "# Relative Strength Index (RSI)\n",
    "\n",
    "con = df['Close'].diff(1)\n",
    "gain = con.where(con > 0, 0)\n",
    "loss = -con.where(con < 0, 0)\n",
    "avg_gain = gain.rolling(window=14).mean()\n",
    "avg_loss = loss.rolling(window=14).mean()\n",
    "RS = avg_gain / avg_loss\n",
    "df['RSI'] = 100 - (100 / (1 + RS))"
   ]
  },
  {
   "cell_type": "code",
   "execution_count": 264,
   "id": "b1e9a436",
   "metadata": {},
   "outputs": [],
   "source": [
    "# Bollinger Bands\n",
    "\n",
    "df['20_day_SMA'] = df['Close'].rolling(window=20).mean()\n",
    "df['Std_dev'] = df['Close'].rolling(window=20).std()\n",
    "df['Bollinger_Upper'] = df['20_day_SMA'] + (df['Std_dev'] * 2)\n",
    "df['Bollinger_Lower'] = df['20_day_SMA'] - (df['Std_dev'] * 2)"
   ]
  },
  {
   "cell_type": "code",
   "execution_count": 265,
   "id": "f0ebf9ad",
   "metadata": {},
   "outputs": [
    {
     "data": {
      "text/plain": [
       "Open                0\n",
       "High                0\n",
       "Low                 0\n",
       "Close               0\n",
       "Adj Close           0\n",
       "Volume              0\n",
       "Log_Return          1\n",
       "MA10                6\n",
       "MA25               29\n",
       "MACD                0\n",
       "RSI                13\n",
       "20_day_SMA         19\n",
       "Std_dev            19\n",
       "Bollinger_Upper    19\n",
       "Bollinger_Lower    19\n",
       "dtype: int64"
      ]
     },
     "execution_count": 265,
     "metadata": {},
     "output_type": "execute_result"
    }
   ],
   "source": [
    "# Checking for null values\n",
    "\n",
    "df.isnull().sum()"
   ]
  },
  {
   "cell_type": "code",
   "execution_count": 266,
   "id": "6702a297",
   "metadata": {},
   "outputs": [],
   "source": [
    "df=df.dropna()"
   ]
  },
  {
   "cell_type": "markdown",
   "id": "7b2efcfb",
   "metadata": {},
   "source": [
    "### Model Training"
   ]
  },
  {
   "cell_type": "code",
   "execution_count": 245,
   "id": "e4ba110f",
   "metadata": {},
   "outputs": [],
   "source": [
    "features = ['Open', 'High', 'Low', 'Close', 'Volume', 'Log_Return', 'MA10', 'MA25', 'MACD', 'RSI', 'Bollinger_Upper', 'Bollinger_Lower']\n",
    "x = df[features]\n",
    "y = df['Close']"
   ]
  },
  {
   "cell_type": "code",
   "execution_count": 246,
   "id": "51c2f0ee",
   "metadata": {},
   "outputs": [],
   "source": [
    "from sklearn.model_selection import train_test_split\n",
    "x_train, x_test, y_train, y_test = train_test_split(x, y, test_size=0.2, random_state=42)"
   ]
  },
  {
   "cell_type": "code",
   "execution_count": 247,
   "id": "94155db9",
   "metadata": {},
   "outputs": [
    {
     "data": {
      "text/plain": [
       "RandomForestRegressor(random_state=42)"
      ]
     },
     "execution_count": 247,
     "metadata": {},
     "output_type": "execute_result"
    }
   ],
   "source": [
    "from sklearn.ensemble import RandomForestRegressor\n",
    "model = RandomForestRegressor(n_estimators=100, random_state=42)\n",
    "model.fit(x_train, y_train)"
   ]
  },
  {
   "cell_type": "code",
   "execution_count": 248,
   "id": "29a61903",
   "metadata": {},
   "outputs": [],
   "source": [
    "sample_input = pd.DataFrame.from_dict({\n",
    "    'Open': [150.0],\n",
    "    'High': [153.0],\n",
    "    'Low': [149.5],\n",
    "    'Close': [152.3],\n",
    "    'Volume': [100000],\n",
    "    'Log_Return': [0.02],\n",
    "    'MA10': [148.0],\n",
    "    'MA25': [146.5],\n",
    "    'MACD': [0.5],\n",
    "    'RSI': [70],\n",
    "    'Bollinger_Upper': [154.0],\n",
    "    'Bollinger_Lower': [144.0]\n",
    "})"
   ]
  },
  {
   "cell_type": "code",
   "execution_count": 252,
   "id": "5a475222",
   "metadata": {},
   "outputs": [
    {
     "data": {
      "text/plain": [
       "array([152.36419922])"
      ]
     },
     "execution_count": 252,
     "metadata": {},
     "output_type": "execute_result"
    }
   ],
   "source": [
    "from sklearn.metrics import mean_squared_error, accuracy_score\n",
    "sample_y_pred=model.predict(sample_input)\n",
    "sample_y_pred"
   ]
  },
  {
   "cell_type": "code",
   "execution_count": 253,
   "id": "48d95903",
   "metadata": {},
   "outputs": [
    {
     "data": {
      "text/plain": [
       "array([ 66.14410118, 131.30970184,  60.35394939, 143.42229721,\n",
       "        46.30329933, 134.11880142, 172.07200134, 134.76710007,\n",
       "       139.93810089,  55.80959988, 168.65880493,  47.21687492,\n",
       "       120.14550018,  78.28970009, 159.46600204, 110.83829926,\n",
       "        44.4439502 , 124.40515007, 126.02219978,  71.0345504 ,\n",
       "        49.83847507,  50.59282505, 136.86899902,  72.39009933,\n",
       "       121.40999908, 142.4929985 , 167.57470016, 141.53509735,\n",
       "        96.83425018,  60.833475  ,  46.86317528,  47.13360062,\n",
       "       118.6538504 ,  77.25357651, 120.58699974, 122.10340004,\n",
       "       141.94029953, 160.2477034 , 138.91779892, 116.59417465,\n",
       "        68.63844879,  67.43042549,  61.76410015,  69.97382286,\n",
       "       148.22009964, 128.13300209, 172.03230179,  49.19805008,\n",
       "       131.92950302,  90.43134857, 167.53650055, 133.11710037,\n",
       "        50.07345043, 171.83580124,  75.35194969,  78.40337402,\n",
       "       168.98870392,  50.16735012, 120.87919907,  66.51722595,\n",
       "        59.23115032,  67.49142456, 110.93692467, 129.84069839,\n",
       "       126.21512428, 108.76462387, 115.70157471,  44.94700012,\n",
       "        51.2512508 , 148.01879868,  90.20804802, 178.89610199,\n",
       "       179.01060104, 127.01709877, 122.38770012,  47.62845039,\n",
       "       163.51629669, 157.4766008 , 130.14460129,  71.05652534,\n",
       "       113.88394875, 162.54319931,  94.68362579, 127.16119957,\n",
       "       163.557798  , 128.01989899, 172.07880096, 116.55397423,\n",
       "        49.55637478,  82.74285027, 146.1073996 ,  85.90824814,\n",
       "        51.36902592, 131.8713028 ,  73.66982567, 167.48429901,\n",
       "        95.49180084, 136.54899841, 123.25969933, 142.8637001 ,\n",
       "       149.36030045,  96.9352993 , 125.94700066, 143.83760056,\n",
       "       169.86519958, 121.06369881,  52.80417507,  74.92419991,\n",
       "        70.94067535, 178.83960098,  44.55402489,  79.67457626,\n",
       "        50.71772469, 155.12000031,  67.72744911, 132.42399963,\n",
       "       141.53789856, 150.07630096, 172.80850113, 138.4220018 ,\n",
       "        68.12989845, 176.14680023, 139.07099991,  86.605998  ,\n",
       "       142.60239792, 151.09240387,  75.95595024, 108.2874749 ,\n",
       "       163.963797  ,  79.86104942, 140.28480026, 145.85000137,\n",
       "        61.56065006,  49.17107513, 119.99690132, 121.12645042,\n",
       "       145.41099564,  51.40802601, 125.9278006 , 161.66840012,\n",
       "        63.70830006, 174.32969833, 165.24500214, 170.0787001 ,\n",
       "        52.15534992, 119.28490097, 147.01299988,  79.66065178,\n",
       "       146.87800034, 115.95714989,  66.57430077, 115.4308744 ,\n",
       "       150.96590317, 175.99980072, 152.43509964, 129.77199753,\n",
       "        52.2316251 , 127.95990059,  90.45049828,  64.39179878,\n",
       "       165.14870224, 157.64880295, 134.36110001,  58.98042603,\n",
       "        92.9391996 , 172.89490021,  81.31354973,  45.9530743 ,\n",
       "        47.10332573,  69.37284805, 174.71830048, 152.97229767,\n",
       "       149.09040054,  56.77707413, 151.21090363, 114.96492485,\n",
       "        47.65740059,  53.16004959, 149.79270126, 163.07339828,\n",
       "       171.13210114, 143.86249969, 172.49940002, 164.7908992 ,\n",
       "       108.67197456, 149.68349854, 167.65580063,  51.26767578,\n",
       "       174.67570007,  94.0780249 , 148.10999893,  96.82282425,\n",
       "       174.68399994, 125.33164993, 135.41919571, 132.32710068])"
      ]
     },
     "execution_count": 253,
     "metadata": {},
     "output_type": "execute_result"
    }
   ],
   "source": [
    "y_pred=model.predict(x_test)\n",
    "y_pred"
   ]
  },
  {
   "cell_type": "markdown",
   "id": "00f6ebdb",
   "metadata": {},
   "source": [
    "## Model Evaluation"
   ]
  },
  {
   "cell_type": "code",
   "execution_count": 254,
   "id": "9c4646aa",
   "metadata": {},
   "outputs": [
    {
     "name": "stdout",
     "output_type": "stream",
     "text": [
      "Mean Squared Error: 0.15493171358569885\n"
     ]
    }
   ],
   "source": [
    "mse= mean_squared_error(y_test,y_pred)\n",
    "print(f'Mean Squared Error: {mse}')"
   ]
  },
  {
   "cell_type": "markdown",
   "id": "d8cc2a68",
   "metadata": {},
   "source": [
    "## Visualisation "
   ]
  },
  {
   "cell_type": "code",
   "execution_count": 219,
   "id": "e5e247af",
   "metadata": {
    "scrolled": true
   },
   "outputs": [
    {
     "data": {
      "image/png": "[encoded data removed]",
      "text/plain": [
       "<Figure size 1000x600 with 1 Axes>"
      ]
     },
     "metadata": {},
     "output_type": "display_data"
    }
   ],
   "source": [
    "import seaborn as sns\n",
    "\n",
    "plt.figure(figsize=(10,6))\n",
    "\n",
    "sns.regplot(x=y_test,y=y_pred,color='blue',line_kws={\"color\": \"red\"})\n",
    "\n",
    "plt.title(f'Correlation between Actual and Predicted Stock Prices for {symbol}', fontsize=14)\n",
    "plt.xlabel('Actual Stock Price', fontsize=12)\n",
    "plt.ylabel('Predicted Stock Price', fontsize=12)\n",
    "\n",
    "plt.tight_layout()\n",
    "plt.show()"
   ]
  },
  {
   "cell_type": "code",
   "execution_count": 220,
   "id": "698ae47b",
   "metadata": {},
   "outputs": [],
   "source": [
    "# Residuals\n",
    "residuals = y_test - y_pred"
   ]
  },
  {
   "cell_type": "code",
   "execution_count": 268,
   "id": "3227f9c7",
   "metadata": {},
   "outputs": [
    {
     "data": {
      "image/png": "[encoded data removed]",
      "text/plain": [
       "<Figure size 1000x600 with 1 Axes>"
      ]
     },
     "metadata": {},
     "output_type": "display_data"
    }
   ],
   "source": [
    "# Create a new figure and set the figure size\n",
    "plt.figure(figsize=(10, 6))\n",
    "\n",
    "plt.scatter(y_test, residuals, color='red')\n",
    "plt.title(f'Residuals between Actual and Predicted Stock Prices for {label}', fontsize=14)\n",
    "plt.xlabel('Actual Stock Price', fontsize=12)\n",
    "plt.ylabel('Residuals', fontsize=12)\n",
    "plt.axhline(y=0, color='blue', linestyle='-')\n",
    "\n",
    "plt.show()"
   ]
  },
  {
   "cell_type": "markdown",
   "id": "8e489fa2",
   "metadata": {},
   "source": [
    "# Significance\n",
    "\n",
    "- It holds the potential to aid investment strategies and financial decision-making based on an outcome.\n",
    "\n",
    "- It can be used as a foundation to explore future possibilities, maybe lead to creation of better trading algorithm."
   ]
  },
  {
   "cell_type": "markdown",
   "id": "6d090f3d",
   "metadata": {},
   "source": [
    "# Ethical Considerations:\n",
    "\n",
    "- Highest level of ethical standards are to be maintained, It has to be made sure that the data is open source and licensed for usage.\n",
    "\n",
    "- Breach of privacy and Intellectual property shouldn't be entertained. "
   ]
  },
  {
   "cell_type": "markdown",
   "id": "a587b921",
   "metadata": {},
   "source": [
    "# Refrences\n",
    "\n",
    "- Zhang, W., Yoshida, T., & Tang, X. (2019). A Hybrid Model for Stock Price Prediction Using Machine Learning and Sentiment Analysis. Expert Systems with Applications, 136, 1-12.\n",
    "\n",
    "- Brownlee, J. (2020). How to Develop LSTM Models for Time Series Forecasting. Machine Learning Mastery."
   ]
  },
  {
   "cell_type": "markdown",
   "id": "09988aac",
   "metadata": {},
   "source": [
    "# Conclusion\n",
    "\n",
    "- Applied Machine Learning model to predict stock price \n",
    "- Created few artificial features such as moving average, RSI, Bollinger Bands to bettern the prediction scope\n",
    "- Model evaluation done to test inaccuracy\n",
    "- Finally, Visualisation plots created to understand the predicted price vs actual price. "
   ]
  }
 ],
 "metadata": {
  "kernelspec": {
   "display_name": "Python 3 (ipykernel)",
   "language": "python",
   "name": "python3"
  },
  "language_info": {
   "codemirror_mode": {
    "name": "ipython",
    "version": 3
   },
   "file_extension": ".py",
   "mimetype": "text/x-python",
   "name": "python",
   "nbconvert_exporter": "python",
   "pygments_lexer": "ipython3",
   "version": "3.9.13"
  }
 },
 "nbformat": 4,
 "nbformat_minor": 5
}
